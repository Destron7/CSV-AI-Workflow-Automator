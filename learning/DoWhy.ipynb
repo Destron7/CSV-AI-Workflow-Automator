{
 "cells": [
  {
   "cell_type": "markdown",
   "id": "5d214d18",
   "metadata": {},
   "source": [
    "# DoWhy "
   ]
  },
  {
   "cell_type": "markdown",
   "id": "d7024a1f",
   "metadata": {
    "vscode": {
     "languageId": "plaintext"
    }
   },
   "source": [
    "### What is Causal Inference?\n",
    "Causal inference is a field of statistics that focuses on identifying and estimating causal relationships between variables. It aims to determine whether a change in one variable (the cause) leads to a change in another variable (the effect). This is crucial for understanding the impact of interventions, policies, or treatments.\n",
    "\n",
    "Example: When company invested 10,000$ in Advertisement, it resulted in a 20% increase in sales. Here, the investment is the cause, and the increase in sales is the effect."
   ]
  },
  {
   "cell_type": "markdown",
   "id": "094934c6",
   "metadata": {},
   "source": [
    "### Why Do We Need Causal Inference?\n",
    "Causal inference is essential for making informed decisions based on data. It helps in understanding the effects of actions, policies, or treatments, allowing for better planning and resource allocation. By establishing causal relationships, organizations can optimize their strategies and improve outcomes."
   ]
  },
  {
   "cell_type": "markdown",
   "id": "a9163b91",
   "metadata": {},
   "source": [
    "### What is DoWhy?\n",
    "DoWhy is a open-source Python library for causal inference that provides a unified framework for modeling, estimating, and testing causal effects. It simplifies the process of causal analysis by offering a set of tools and methods to handle various aspects of causal inference, including:\n",
    "- **Modeling**: Defining causal models using directed acyclic graphs (DAGs).\n",
    "- **Identification**: Determining whether a causal effect can be identified from the data, based on the causal model.\n",
    "- **Estimation**: Estimating causal effects using different methods, such as propensity score matching, regression, and instrumental variables.\n",
    "- **Testing**: Validating causal assumptions and testing the robustness of causal estimates.\n"
   ]
  },
  {
   "cell_type": "code",
   "execution_count": 1,
   "id": "4ca09113",
   "metadata": {},
   "outputs": [
    {
     "name": "stderr",
     "output_type": "stream",
     "text": [
      "d:\\Pro\\CSV AI Workflow\\.venv\\lib\\site-packages\\tqdm\\auto.py:21: TqdmWarning: IProgress not found. Please update jupyter and ipywidgets. See https://ipywidgets.readthedocs.io/en/stable/user_install.html\n",
      "  from .autonotebook import tqdm as notebook_tqdm\n"
     ]
    }
   ],
   "source": [
    "import numpy as np\n",
    "import pandas as pd\n",
    "import matplotlib.pyplot as plt\n",
    "import seaborn as sns\n",
    "import dowhy\n",
    "from dowhy import CausalModel\n",
    "\n",
    "import warnings\n",
    "warnings.filterwarnings(\"ignore\")"
   ]
  },
  {
   "cell_type": "code",
   "execution_count": 9,
   "id": "1e257ee2",
   "metadata": {},
   "outputs": [
    {
     "data": {
      "text/html": [
       "<div>\n",
       "<style scoped>\n",
       "    .dataframe tbody tr th:only-of-type {\n",
       "        vertical-align: middle;\n",
       "    }\n",
       "\n",
       "    .dataframe tbody tr th {\n",
       "        vertical-align: top;\n",
       "    }\n",
       "\n",
       "    .dataframe thead th {\n",
       "        text-align: right;\n",
       "    }\n",
       "</style>\n",
       "<table border=\"1\" class=\"dataframe\">\n",
       "  <thead>\n",
       "    <tr style=\"text-align: right;\">\n",
       "      <th></th>\n",
       "      <th>user_id</th>\n",
       "      <th>signup_month</th>\n",
       "      <th>month</th>\n",
       "      <th>spend</th>\n",
       "      <th>treatment</th>\n",
       "    </tr>\n",
       "  </thead>\n",
       "  <tbody>\n",
       "    <tr>\n",
       "      <th>0</th>\n",
       "      <td>0</td>\n",
       "      <td>0</td>\n",
       "      <td>1</td>\n",
       "      <td>521</td>\n",
       "      <td>False</td>\n",
       "    </tr>\n",
       "    <tr>\n",
       "      <th>1</th>\n",
       "      <td>0</td>\n",
       "      <td>0</td>\n",
       "      <td>2</td>\n",
       "      <td>488</td>\n",
       "      <td>False</td>\n",
       "    </tr>\n",
       "    <tr>\n",
       "      <th>2</th>\n",
       "      <td>0</td>\n",
       "      <td>0</td>\n",
       "      <td>3</td>\n",
       "      <td>479</td>\n",
       "      <td>False</td>\n",
       "    </tr>\n",
       "    <tr>\n",
       "      <th>3</th>\n",
       "      <td>0</td>\n",
       "      <td>0</td>\n",
       "      <td>4</td>\n",
       "      <td>475</td>\n",
       "      <td>False</td>\n",
       "    </tr>\n",
       "    <tr>\n",
       "      <th>4</th>\n",
       "      <td>0</td>\n",
       "      <td>0</td>\n",
       "      <td>5</td>\n",
       "      <td>456</td>\n",
       "      <td>False</td>\n",
       "    </tr>\n",
       "    <tr>\n",
       "      <th>...</th>\n",
       "      <td>...</td>\n",
       "      <td>...</td>\n",
       "      <td>...</td>\n",
       "      <td>...</td>\n",
       "      <td>...</td>\n",
       "    </tr>\n",
       "    <tr>\n",
       "      <th>119995</th>\n",
       "      <td>9999</td>\n",
       "      <td>2</td>\n",
       "      <td>8</td>\n",
       "      <td>541</td>\n",
       "      <td>True</td>\n",
       "    </tr>\n",
       "    <tr>\n",
       "      <th>119996</th>\n",
       "      <td>9999</td>\n",
       "      <td>2</td>\n",
       "      <td>9</td>\n",
       "      <td>499</td>\n",
       "      <td>True</td>\n",
       "    </tr>\n",
       "    <tr>\n",
       "      <th>119997</th>\n",
       "      <td>9999</td>\n",
       "      <td>2</td>\n",
       "      <td>10</td>\n",
       "      <td>518</td>\n",
       "      <td>True</td>\n",
       "    </tr>\n",
       "    <tr>\n",
       "      <th>119998</th>\n",
       "      <td>9999</td>\n",
       "      <td>2</td>\n",
       "      <td>11</td>\n",
       "      <td>488</td>\n",
       "      <td>True</td>\n",
       "    </tr>\n",
       "    <tr>\n",
       "      <th>119999</th>\n",
       "      <td>9999</td>\n",
       "      <td>2</td>\n",
       "      <td>12</td>\n",
       "      <td>494</td>\n",
       "      <td>True</td>\n",
       "    </tr>\n",
       "  </tbody>\n",
       "</table>\n",
       "<p>120000 rows × 5 columns</p>\n",
       "</div>"
      ],
      "text/plain": [
       "        user_id  signup_month  month  spend  treatment\n",
       "0             0             0      1    521      False\n",
       "1             0             0      2    488      False\n",
       "2             0             0      3    479      False\n",
       "3             0             0      4    475      False\n",
       "4             0             0      5    456      False\n",
       "...         ...           ...    ...    ...        ...\n",
       "119995     9999             2      8    541       True\n",
       "119996     9999             2      9    499       True\n",
       "119997     9999             2     10    518       True\n",
       "119998     9999             2     11    488       True\n",
       "119999     9999             2     12    494       True\n",
       "\n",
       "[120000 rows x 5 columns]"
      ]
     },
     "execution_count": 9,
     "metadata": {},
     "output_type": "execute_result"
    }
   ],
   "source": [
    "# Simulating a dataset for a causal inference example\n",
    "# Setting the random seed for reproducibility\n",
    "np.random.seed(42)\n",
    "\n",
    "num_users = 10000\n",
    "num_months = 12\n",
    "\n",
    "signup_months = np.random.choice(\n",
    "    np.arange(1, num_months), num_users\n",
    ") * np.random.randint(\n",
    "    0, 2, size=num_users\n",
    ")  # signup_months == 0 means customer did not sign up\n",
    "df = pd.DataFrame(\n",
    "    {\n",
    "        \"user_id\": np.repeat(np.arange(num_users), num_months),\n",
    "        \"signup_month\": np.repeat(\n",
    "            signup_months, num_months\n",
    "        ),  # signup month == 0 means customer did not sign up\n",
    "        \"month\": np.tile(\n",
    "            np.arange(1, num_months + 1), num_users\n",
    "        ),  # months are from 1 to 12\n",
    "        \"spend\": np.random.poisson(\n",
    "            500, num_users * num_months\n",
    "        ),  # np.random.beta(a=2, b=5, size=num_users * num_months)*1000 # centered at 500\n",
    "    }\n",
    ")\n",
    "# A customer is in the treatment group if and only if they signed up\n",
    "df[\"treatment\"] = df[\"signup_month\"] > 0\n",
    "# Simulating an effect of month (monotonically decreasing--customers buy less later in the year)\n",
    "df[\"spend\"] = df[\"spend\"] - df[\"month\"] * 10\n",
    "# Simulating a simple treatment effect of 100\n",
    "after_signup = (df[\"signup_month\"] < df[\"month\"]) & (df[\"treatment\"])\n",
    "df.loc[after_signup, \"spend\"] = df[after_signup][\"spend\"] + 100\n",
    "df"
   ]
  },
  {
   "cell_type": "code",
   "execution_count": 10,
   "id": "d6802513",
   "metadata": {},
   "outputs": [],
   "source": [
    "i = 3\n",
    "\n",
    "causal_graph = \"\"\"digraph {\n",
    "treatment[label=\"Program Signup in month i\"];\n",
    "pre_spends;\n",
    "post_spends;\n",
    "Z->treatment;\n",
    "pre_spends -> treatment;\n",
    "treatment->post_spends;\n",
    "signup_month->post_spends;\n",
    "signup_month->treatment;\n",
    "}\"\"\""
   ]
  },
  {
   "cell_type": "code",
   "execution_count": 11,
   "id": "d4fdf7d6",
   "metadata": {},
   "outputs": [
    {
     "name": "stdout",
     "output_type": "stream",
     "text": [
      "      user_id  signup_month  treatment  pre_spends  post_spends\n",
      "0           0             0      False       504.5   422.777778\n",
      "1           2             0      False       485.0   434.000000\n",
      "2           4             0      False       488.5   420.111111\n",
      "3           5             0      False       475.0   408.333333\n",
      "4           6             0      False       494.0   423.666667\n",
      "...       ...           ...        ...         ...          ...\n",
      "5468     9992             0      False       456.5   404.888889\n",
      "5469     9993             0      False       503.0   431.888889\n",
      "5470     9994             0      False       480.0   411.444444\n",
      "5471     9996             0      False       453.0   406.888889\n",
      "5472     9997             0      False       461.0   415.111111\n",
      "\n",
      "[5473 rows x 5 columns]\n"
     ]
    }
   ],
   "source": [
    "df_i_signupmonth = (\n",
    "    df[df.signup_month.isin([0, i])]\n",
    "    .groupby([\"user_id\", \"signup_month\", \"treatment\"])\n",
    "    .apply(\n",
    "        lambda x: pd.Series(\n",
    "            {\n",
    "                \"pre_spends\": x.loc[x.month < i, \"spend\"].mean(),\n",
    "                \"post_spends\": x.loc[x.month > i, \"spend\"].mean(),\n",
    "            }\n",
    "        )\n",
    "    )\n",
    "    .reset_index()\n",
    ")\n",
    "print(df_i_signupmonth)"
   ]
  },
  {
   "cell_type": "code",
   "execution_count": null,
   "id": "e8a400da",
   "metadata": {},
   "outputs": [
    {
     "data": {
      "text/html": [
       "<div>\n",
       "<style scoped>\n",
       "    .dataframe tbody tr th:only-of-type {\n",
       "        vertical-align: middle;\n",
       "    }\n",
       "\n",
       "    .dataframe tbody tr th {\n",
       "        vertical-align: top;\n",
       "    }\n",
       "\n",
       "    .dataframe thead th {\n",
       "        text-align: right;\n",
       "    }\n",
       "</style>\n",
       "<table border=\"1\" class=\"dataframe\">\n",
       "  <thead>\n",
       "    <tr style=\"text-align: right;\">\n",
       "      <th></th>\n",
       "      <th>user_id</th>\n",
       "      <th>signup_month</th>\n",
       "      <th>pre_spends</th>\n",
       "      <th>post_spends</th>\n",
       "    </tr>\n",
       "  </thead>\n",
       "  <tbody>\n",
       "    <tr>\n",
       "      <th>count</th>\n",
       "      <td>5473.000000</td>\n",
       "      <td>5473.000000</td>\n",
       "      <td>5473.000000</td>\n",
       "      <td>5473.000000</td>\n",
       "    </tr>\n",
       "    <tr>\n",
       "      <th>mean</th>\n",
       "      <td>4947.452768</td>\n",
       "      <td>0.258177</td>\n",
       "      <td>485.212406</td>\n",
       "      <td>428.677041</td>\n",
       "    </tr>\n",
       "    <tr>\n",
       "      <th>std</th>\n",
       "      <td>2919.657654</td>\n",
       "      <td>0.841430</td>\n",
       "      <td>15.785273</td>\n",
       "      <td>29.066764</td>\n",
       "    </tr>\n",
       "    <tr>\n",
       "      <th>min</th>\n",
       "      <td>0.000000</td>\n",
       "      <td>0.000000</td>\n",
       "      <td>423.000000</td>\n",
       "      <td>390.222222</td>\n",
       "    </tr>\n",
       "    <tr>\n",
       "      <th>25%</th>\n",
       "      <td>2405.000000</td>\n",
       "      <td>0.000000</td>\n",
       "      <td>474.500000</td>\n",
       "      <td>415.555556</td>\n",
       "    </tr>\n",
       "    <tr>\n",
       "      <th>50%</th>\n",
       "      <td>4926.000000</td>\n",
       "      <td>0.000000</td>\n",
       "      <td>485.500000</td>\n",
       "      <td>421.000000</td>\n",
       "    </tr>\n",
       "    <tr>\n",
       "      <th>75%</th>\n",
       "      <td>7501.000000</td>\n",
       "      <td>0.000000</td>\n",
       "      <td>495.500000</td>\n",
       "      <td>426.777778</td>\n",
       "    </tr>\n",
       "    <tr>\n",
       "      <th>max</th>\n",
       "      <td>9997.000000</td>\n",
       "      <td>3.000000</td>\n",
       "      <td>541.000000</td>\n",
       "      <td>545.111111</td>\n",
       "    </tr>\n",
       "  </tbody>\n",
       "</table>\n",
       "</div>"
      ],
      "text/plain": [
       "           user_id  signup_month   pre_spends  post_spends\n",
       "count  5473.000000   5473.000000  5473.000000  5473.000000\n",
       "mean   4947.452768      0.258177   485.212406   428.677041\n",
       "std    2919.657654      0.841430    15.785273    29.066764\n",
       "min       0.000000      0.000000   423.000000   390.222222\n",
       "25%    2405.000000      0.000000   474.500000   415.555556\n",
       "50%    4926.000000      0.000000   485.500000   421.000000\n",
       "75%    7501.000000      0.000000   495.500000   426.777778\n",
       "max    9997.000000      3.000000   541.000000   545.111111"
      ]
     },
     "execution_count": 12,
     "metadata": {},
     "output_type": "execute_result"
    }
   ],
   "source": [
    "df_i_signupmonth.describe()"
   ]
  },
  {
   "cell_type": "code",
   "execution_count": 14,
   "id": "135f6e96",
   "metadata": {},
   "outputs": [
    {
     "data": {
      "text/plain": [
       "signup_month\n",
       "0    5002\n",
       "3     471\n",
       "Name: count, dtype: int64"
      ]
     },
     "execution_count": 14,
     "metadata": {},
     "output_type": "execute_result"
    }
   ],
   "source": [
    "df_i_signupmonth['signup_month'].value_counts()"
   ]
  },
  {
   "cell_type": "code",
   "execution_count": 15,
   "id": "8b91fdda",
   "metadata": {},
   "outputs": [],
   "source": [
    "model = CausalModel(\n",
    "    data=df_i_signupmonth,\n",
    "    treatment=\"treatment\",  # 'Program Signup in month i'\n",
    "    outcome=\"post_spends\",\n",
    "    common_causes=[ \"pre_spends\", \"signup_month\"],\n",
    ")"
   ]
  },
  {
   "cell_type": "code",
   "execution_count": 16,
   "id": "39055ac2",
   "metadata": {},
   "outputs": [
    {
     "data": {
      "image/png": "[encoded data removed]",
      "text/plain": [
       "<Figure size 800x600 with 1 Axes>"
      ]
     },
     "metadata": {},
     "output_type": "display_data"
    }
   ],
   "source": [
    "# model.view_model(layout=\"dot\")\n",
    "model.view_model(layout=\"dot\")"
   ]
  },
  {
   "cell_type": "code",
   "execution_count": 17,
   "id": "10519f03",
   "metadata": {},
   "outputs": [
    {
     "name": "stdout",
     "output_type": "stream",
     "text": [
      "Estimand type: EstimandType.NONPARAMETRIC_ATE\n",
      "\n",
      "### Estimand : 1\n",
      "Estimand name: backdoor\n",
      "Estimand expression:\n",
      "     d                                              \n",
      "────────────(E[post_spends|signup_month,pre_spends])\n",
      "d[treatment]                                        \n",
      "Estimand assumption 1, Unconfoundedness: If U→{treatment} and U→post_spends then P(post_spends|treatment,signup_month,pre_spends,U) = P(post_spends|treatment,signup_month,pre_spends)\n",
      "\n",
      "### Estimand : 2\n",
      "Estimand name: iv\n",
      "No such variable(s) found!\n",
      "\n",
      "### Estimand : 3\n",
      "Estimand name: frontdoor\n",
      "No such variable(s) found!\n",
      "\n",
      "### Estimand : 4\n",
      "Estimand name: general_adjustment\n",
      "Estimand expression:\n",
      "     d                                              \n",
      "────────────(E[post_spends|signup_month,pre_spends])\n",
      "d[treatment]                                        \n",
      "Estimand assumption 1, Unconfoundedness: If U→{treatment} and U→post_spends then P(post_spends|treatment,signup_month,pre_spends,U) = P(post_spends|treatment,signup_month,pre_spends)\n",
      "\n"
     ]
    }
   ],
   "source": [
    "identified_estimand = model.identify_effect(proceed_when_unidentifiable=True)\n",
    "print(identified_estimand)"
   ]
  },
  {
   "cell_type": "markdown",
   "id": "0791b91c",
   "metadata": {},
   "source": [
    "## Estimate causal effect based on the identified estimand"
   ]
  },
  {
   "cell_type": "code",
   "execution_count": 21,
   "id": "4ee8c5ab",
   "metadata": {},
   "outputs": [],
   "source": [
    "estimate = model.estimate_effect(\n",
    "    identified_estimand,\n",
    "    method_name=\"backdoor.propensity_score_matching\",\n",
    "    target_units=\"att\",\n",
    ")"
   ]
  },
  {
   "cell_type": "code",
   "execution_count": 22,
   "id": "e39f7cf9",
   "metadata": {},
   "outputs": [
    {
     "name": "stdout",
     "output_type": "stream",
     "text": [
      "*** Causal Estimate ***\n",
      "\n",
      "## Identified estimand\n",
      "Estimand type: EstimandType.NONPARAMETRIC_ATE\n",
      "\n",
      "### Estimand : 1\n",
      "Estimand name: backdoor\n",
      "Estimand expression:\n",
      "     d                                              \n",
      "────────────(E[post_spends|signup_month,pre_spends])\n",
      "d[treatment]                                        \n",
      "Estimand assumption 1, Unconfoundedness: If U→{treatment} and U→post_spends then P(post_spends|treatment,signup_month,pre_spends,U) = P(post_spends|treatment,signup_month,pre_spends)\n",
      "\n",
      "## Realized estimand\n",
      "b: post_spends~treatment+signup_month+pre_spends\n",
      "Target units: att\n",
      "\n",
      "## Estimate\n",
      "Mean value: 87.82472281198395\n",
      "\n"
     ]
    }
   ],
   "source": [
    "print(estimate)"
   ]
  },
  {
   "cell_type": "markdown",
   "id": "b35b6ce5",
   "metadata": {},
   "source": [
    "### What Conclusion can we draw from the estimated effect?\n",
    "This says all confounders affecting both treatment and outcome are included in your model.\n",
    "\n",
    "It assumes there’s no unobserved variable U that affects both treatment and post_spends.\n",
    "\n",
    "You’re assuming pre_spends and signup_month are enough to \"block\" all backdoor paths.\n",
    "\n",
    "| Group               | Average Post-Spends (Roughly) |\n",
    "| ------------------- | ----------------------------- |\n",
    "| Treated (Signed Up) | High (e.g., ₹100)             |\n",
    "| Matched Controls    | Lower (e.g., ₹12.18 less)     |\n",
    "| Causal Effect (ATT) | **₹87.82** difference         |\n",
    "\n",
    "\n",
    "```\n",
    "Mean value: 87.82\n",
    "```\n",
    "\n",
    "<b>\"We estimate that signing up for the program causes users to spend ₹87.82 more on average, compared to what they would have spent if they hadn’t signed up, even after accounting for the month and their earlier spending.\"</b>"
   ]
  },
  {
   "cell_type": "markdown",
   "id": "9f329210",
   "metadata": {},
   "source": [
    "## Refutation\n",
    "💡 “How confident can I be that this causal effect is real and not due to some hidden bias or noise?”"
   ]
  },
  {
   "cell_type": "code",
   "execution_count": 23,
   "id": "6fd334c2",
   "metadata": {},
   "outputs": [
    {
     "name": "stdout",
     "output_type": "stream",
     "text": [
      "Refute: Use a Placebo Treatment\n",
      "Estimated effect:87.82472281198395\n",
      "New effect:-0.35714791224345394\n",
      "p value:0.28540513075337004\n",
      "\n"
     ]
    }
   ],
   "source": [
    "refutation = model.refute_estimate(\n",
    "    identified_estimand,\n",
    "    estimate,\n",
    "    method_name=\"placebo_treatment_refuter\",\n",
    "    placebo_type=\"permute\",\n",
    "    num_simulations=20,\n",
    ")\n",
    "print(refutation)"
   ]
  },
  {
   "cell_type": "markdown",
   "id": "9517234b",
   "metadata": {},
   "source": [
    "The Placebo Test is a method to check the robustness of your causal inference by testing if the effect holds under different conditions or assumptions. It helps to validate whether the observed effect is genuine or if it could be due to confounding factors.\n",
    "\n",
    "The Test involves creating a \"placebo\" treatment group that should not have any effect, and then checking if the estimated effect remains significant. If the effect disappears or becomes insignificant in the placebo group, it suggests that the original effect may not be robust.\n",
    "\n",
    "But in our case the placebo test is not significant, which means the effect we observed is likely genuine and not due to confounding factors.\n",
    "\n",
    "In our case:\n",
    "```\n",
    "placebo_test p_value:0.28540513075337004 \n",
    "when > 0.05, it means the effect is not significant.\n",
    "Which means the effect we observed is likely genuine and not due to confounding factors.\n",
    "```\n",
    "\n",
    "```\n",
    "Estimated effect:87.82472281198395\n",
    "New effect:-0.35714791224345394\n",
    "\n",
    "Estimated Effect is not affected by the placebo test.\n",
    "Which States that the effect we observed is likely genuine and not due to confounding factors.\n",
    "Placebo was not able to find any significant effect.\n",
    "```"
   ]
  },
  {
   "cell_type": "markdown",
   "id": "82241d2a",
   "metadata": {},
   "source": [
    "### Conclusion\n",
    "In this example, we used DoWhy to estimate the causal effect of signing up for a program on user spending. We defined a causal model, identified the estimand, estimated the effect using propensity score matching, and validated our findings through a placebo test."
   ]
  },
  {
   "cell_type": "markdown",
   "id": "f90e4c49",
   "metadata": {},
   "source": [
    "## Resources:\n",
    "\n",
    "Kaggle: https://www.kaggle.com/code/adamwurdits/causal-inference-with-dowhy-a-practical-guide<br>\n",
    "Research Paper: https://arxiv.org/abs/2011.04216<br>\n",
    "DoWhy Documentation: https://dowhy.readthedocs.io/en/latest/index.html<br>\n",
    "Youtube: https://www.youtube.com/watch?v=LALfQStONEc&t=1021s<br>\n"
   ]
  }
 ],
 "metadata": {
  "kernelspec": {
   "display_name": ".venv",
   "language": "python",
   "name": "python3"
  },
  "language_info": {
   "codemirror_mode": {
    "name": "ipython",
    "version": 3
   },
   "file_extension": ".py",
   "mimetype": "text/x-python",
   "name": "python",
   "nbconvert_exporter": "python",
   "pygments_lexer": "ipython3",
   "version": "3.10.0"
  }
 },
 "nbformat": 4,
 "nbformat_minor": 5
}

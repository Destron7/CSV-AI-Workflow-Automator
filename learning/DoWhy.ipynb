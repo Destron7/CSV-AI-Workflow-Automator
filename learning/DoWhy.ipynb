{
 "cells": [
  {
   "cell_type": "markdown",
   "id": "5d214d18",
   "metadata": {},
   "source": [
    "# DoWhy "
   ]
  },
  {
   "cell_type": "markdown",
   "id": "d7024a1f",
   "metadata": {
    "vscode": {
     "languageId": "plaintext"
    }
   },
   "source": [
    "### What is Causal Inference?\n",
    "Causal inference is a field of statistics that focuses on identifying and estimating causal relationships between variables. It aims to determine whether a change in one variable (the cause) leads to a change in another variable (the effect). This is crucial for understanding the impact of interventions, policies, or treatments.\n",
    "\n",
    "Example: When company invested 10,000$ in Advertisement, it resulted in a 20% increase in sales. Here, the investment is the cause, and the increase in sales is the effect."
   ]
  },
  {
   "cell_type": "markdown",
   "id": "094934c6",
   "metadata": {},
   "source": [
    "### Why Do We Need Causal Inference?\n",
    "Causal inference is essential for making informed decisions based on data. It helps in understanding the effects of actions, policies, or treatments, allowing for better planning and resource allocation. By establishing causal relationships, organizations can optimize their strategies and improve outcomes."
   ]
  },
  {
   "cell_type": "markdown",
   "id": "a9163b91",
   "metadata": {},
   "source": [
    "### What is DoWhy?\n",
    "DoWhy is a open-source Python library for causal inference that provides a unified framework for modeling, estimating, and testing causal effects. It simplifies the process of causal analysis by offering a set of tools and methods to handle various aspects of causal inference, including:\n",
    "- **Modeling**: Defining causal models using directed acyclic graphs (DAGs).\n",
    "- **Identification**: Determining whether a causal effect can be identified from the data, based on the causal model.\n",
    "- **Estimation**: Estimating causal effects using different methods, such as propensity score matching, regression, and instrumental variables.\n",
    "- **Testing**: Validating causal assumptions and testing the robustness of causal estimates.\n"
   ]
  },
  {
   "cell_type": "code",
   "execution_count": 1,
   "id": "4ca09113",
   "metadata": {},
   "outputs": [
    {
     "name": "stderr",
     "output_type": "stream",
     "text": [
      "d:\\Pro\\CSV AI Workflow\\.venv\\lib\\site-packages\\tqdm\\auto.py:21: TqdmWarning: IProgress not found. Please update jupyter and ipywidgets. See https://ipywidgets.readthedocs.io/en/stable/user_install.html\n",
      "  from .autonotebook import tqdm as notebook_tqdm\n"
     ]
    }
   ],
   "source": [
    "import numpy as np\n",
    "import pandas as pd\n",
    "import matplotlib.pyplot as plt\n",
    "import seaborn as sns\n",
    "import dowhy\n",
    "from dowhy import CausalModel\n",
    "\n",
    "import warnings\n",
    "warnings.filterwarnings(\"ignore\")"
   ]
  },
  {
   "cell_type": "code",
   "execution_count": 5,
   "id": "1e257ee2",
   "metadata": {},
   "outputs": [
    {
     "data": {
      "text/html": [
       "<div>\n",
       "<style scoped>\n",
       "    .dataframe tbody tr th:only-of-type {\n",
       "        vertical-align: middle;\n",
       "    }\n",
       "\n",
       "    .dataframe tbody tr th {\n",
       "        vertical-align: top;\n",
       "    }\n",
       "\n",
       "    .dataframe thead th {\n",
       "        text-align: right;\n",
       "    }\n",
       "</style>\n",
       "<table border=\"1\" class=\"dataframe\">\n",
       "  <thead>\n",
       "    <tr style=\"text-align: right;\">\n",
       "      <th></th>\n",
       "      <th>user_id</th>\n",
       "      <th>signup_month</th>\n",
       "      <th>month</th>\n",
       "      <th>spend</th>\n",
       "      <th>treatment</th>\n",
       "    </tr>\n",
       "  </thead>\n",
       "  <tbody>\n",
       "    <tr>\n",
       "      <th>0</th>\n",
       "      <td>0</td>\n",
       "      <td>0</td>\n",
       "      <td>1</td>\n",
       "      <td>521</td>\n",
       "      <td>False</td>\n",
       "    </tr>\n",
       "    <tr>\n",
       "      <th>1</th>\n",
       "      <td>0</td>\n",
       "      <td>0</td>\n",
       "      <td>2</td>\n",
       "      <td>488</td>\n",
       "      <td>False</td>\n",
       "    </tr>\n",
       "    <tr>\n",
       "      <th>2</th>\n",
       "      <td>0</td>\n",
       "      <td>0</td>\n",
       "      <td>3</td>\n",
       "      <td>479</td>\n",
       "      <td>False</td>\n",
       "    </tr>\n",
       "    <tr>\n",
       "      <th>3</th>\n",
       "      <td>0</td>\n",
       "      <td>0</td>\n",
       "      <td>4</td>\n",
       "      <td>475</td>\n",
       "      <td>False</td>\n",
       "    </tr>\n",
       "    <tr>\n",
       "      <th>4</th>\n",
       "      <td>0</td>\n",
       "      <td>0</td>\n",
       "      <td>5</td>\n",
       "      <td>456</td>\n",
       "      <td>False</td>\n",
       "    </tr>\n",
       "    <tr>\n",
       "      <th>...</th>\n",
       "      <td>...</td>\n",
       "      <td>...</td>\n",
       "      <td>...</td>\n",
       "      <td>...</td>\n",
       "      <td>...</td>\n",
       "    </tr>\n",
       "    <tr>\n",
       "      <th>119995</th>\n",
       "      <td>9999</td>\n",
       "      <td>2</td>\n",
       "      <td>8</td>\n",
       "      <td>541</td>\n",
       "      <td>True</td>\n",
       "    </tr>\n",
       "    <tr>\n",
       "      <th>119996</th>\n",
       "      <td>9999</td>\n",
       "      <td>2</td>\n",
       "      <td>9</td>\n",
       "      <td>499</td>\n",
       "      <td>True</td>\n",
       "    </tr>\n",
       "    <tr>\n",
       "      <th>119997</th>\n",
       "      <td>9999</td>\n",
       "      <td>2</td>\n",
       "      <td>10</td>\n",
       "      <td>518</td>\n",
       "      <td>True</td>\n",
       "    </tr>\n",
       "    <tr>\n",
       "      <th>119998</th>\n",
       "      <td>9999</td>\n",
       "      <td>2</td>\n",
       "      <td>11</td>\n",
       "      <td>488</td>\n",
       "      <td>True</td>\n",
       "    </tr>\n",
       "    <tr>\n",
       "      <th>119999</th>\n",
       "      <td>9999</td>\n",
       "      <td>2</td>\n",
       "      <td>12</td>\n",
       "      <td>494</td>\n",
       "      <td>True</td>\n",
       "    </tr>\n",
       "  </tbody>\n",
       "</table>\n",
       "<p>120000 rows × 5 columns</p>\n",
       "</div>"
      ],
      "text/plain": [
       "        user_id  signup_month  month  spend  treatment\n",
       "0             0             0      1    521      False\n",
       "1             0             0      2    488      False\n",
       "2             0             0      3    479      False\n",
       "3             0             0      4    475      False\n",
       "4             0             0      5    456      False\n",
       "...         ...           ...    ...    ...        ...\n",
       "119995     9999             2      8    541       True\n",
       "119996     9999             2      9    499       True\n",
       "119997     9999             2     10    518       True\n",
       "119998     9999             2     11    488       True\n",
       "119999     9999             2     12    494       True\n",
       "\n",
       "[120000 rows x 5 columns]"
      ]
     },
     "execution_count": 5,
     "metadata": {},
     "output_type": "execute_result"
    }
   ],
   "source": [
    "# Simulating a dataset for a causal inference example\n",
    "# Setting the random seed for reproducibility\n",
    "np.random.seed(42)\n",
    "\n",
    "num_users = 10000\n",
    "num_months = 12\n",
    "\n",
    "signup_months = np.random.choice(\n",
    "    np.arange(1, num_months), num_users\n",
    ") * np.random.randint(\n",
    "    0, 2, size=num_users\n",
    ")  # signup_months == 0 means customer did not sign up\n",
    "df = pd.DataFrame(\n",
    "    {\n",
    "        \"user_id\": np.repeat(np.arange(num_users), num_months),\n",
    "        \"signup_month\": np.repeat(\n",
    "            signup_months, num_months\n",
    "        ),  # signup month == 0 means customer did not sign up\n",
    "        \"month\": np.tile(\n",
    "            np.arange(1, num_months + 1), num_users\n",
    "        ),  # months are from 1 to 12\n",
    "        \"spend\": np.random.poisson(\n",
    "            500, num_users * num_months\n",
    "        ),  # np.random.beta(a=2, b=5, size=num_users * num_months)*1000 # centered at 500\n",
    "    }\n",
    ")\n",
    "# A customer is in the treatment group if and only if they signed up\n",
    "df[\"treatment\"] = df[\"signup_month\"] > 0\n",
    "# Simulating an effect of month (monotonically decreasing--customers buy less later in the year)\n",
    "df[\"spend\"] = df[\"spend\"] - df[\"month\"] * 10\n",
    "# Simulating a simple treatment effect of 100\n",
    "after_signup = (df[\"signup_month\"] < df[\"month\"]) & (df[\"treatment\"])\n",
    "df.loc[after_signup, \"spend\"] = df[after_signup][\"spend\"] + 100\n",
    "df"
   ]
  },
  {
   "cell_type": "code",
   "execution_count": 4,
   "id": "d6802513",
   "metadata": {},
   "outputs": [],
   "source": [
    "i = 3\n",
    "\n",
    "causal_graph = \"\"\"digraph {\n",
    "treatment[label=\"Program Signup in month i\"];\n",
    "pre_spends;\n",
    "post_spends;\n",
    "Z->treatment;\n",
    "pre_spends -> treatment;\n",
    "treatment->post_spends;\n",
    "signup_month->post_spends;\n",
    "signup_month->treatment;\n",
    "}\"\"\""
   ]
  },
  {
   "cell_type": "code",
   "execution_count": 6,
   "id": "d4fdf7d6",
   "metadata": {},
   "outputs": [
    {
     "name": "stdout",
     "output_type": "stream",
     "text": [
      "      user_id  signup_month  treatment  pre_spends  post_spends\n",
      "0           0             0      False       504.5   422.777778\n",
      "1           2             0      False       485.0   434.000000\n",
      "2           4             0      False       488.5   420.111111\n",
      "3           5             0      False       475.0   408.333333\n",
      "4           6             0      False       494.0   423.666667\n",
      "...       ...           ...        ...         ...          ...\n",
      "5468     9992             0      False       456.5   404.888889\n",
      "5469     9993             0      False       503.0   431.888889\n",
      "5470     9994             0      False       480.0   411.444444\n",
      "5471     9996             0      False       453.0   406.888889\n",
      "5472     9997             0      False       461.0   415.111111\n",
      "\n",
      "[5473 rows x 5 columns]\n"
     ]
    }
   ],
   "source": [
    "df_i_signupmonth = (\n",
    "    df[df.signup_month.isin([0, i])]\n",
    "    .groupby([\"user_id\", \"signup_month\", \"treatment\"])\n",
    "    .apply(\n",
    "        lambda x: pd.Series(\n",
    "            {\n",
    "                \"pre_spends\": x.loc[x.month < i, \"spend\"].mean(),\n",
    "                \"post_spends\": x.loc[x.month > i, \"spend\"].mean(),\n",
    "            }\n",
    "        )\n",
    "    )\n",
    "    .reset_index()\n",
    ")\n",
    "print(df_i_signupmonth)"
   ]
  },
  {
   "cell_type": "code",
   "execution_count": 7,
   "id": "393369e2",
   "metadata": {},
   "outputs": [],
   "source": [
    "df_i_signupmonth.to_csv(\"simulated_data.csv\", index=False)"
   ]
  },
  {
   "cell_type": "code",
   "execution_count": null,
   "id": "e8a400da",
   "metadata": {},
   "outputs": [
    {
     "data": {
      "text/html": [
       "<div>\n",
       "<style scoped>\n",
       "    .dataframe tbody tr th:only-of-type {\n",
       "        vertical-align: middle;\n",
       "    }\n",
       "\n",
       "    .dataframe tbody tr th {\n",
       "        vertical-align: top;\n",
       "    }\n",
       "\n",
       "    .dataframe thead th {\n",
       "        text-align: right;\n",
       "    }\n",
       "</style>\n",
       "<table border=\"1\" class=\"dataframe\">\n",
       "  <thead>\n",
       "    <tr style=\"text-align: right;\">\n",
       "      <th></th>\n",
       "      <th>user_id</th>\n",
       "      <th>signup_month</th>\n",
       "      <th>pre_spends</th>\n",
       "      <th>post_spends</th>\n",
       "    </tr>\n",
       "  </thead>\n",
       "  <tbody>\n",
       "    <tr>\n",
       "      <th>count</th>\n",
       "      <td>5473.000000</td>\n",
       "      <td>5473.000000</td>\n",
       "      <td>5473.000000</td>\n",
       "      <td>5473.000000</td>\n",
       "    </tr>\n",
       "    <tr>\n",
       "      <th>mean</th>\n",
       "      <td>4947.452768</td>\n",
       "      <td>0.258177</td>\n",
       "      <td>485.212406</td>\n",
       "      <td>428.677041</td>\n",
       "    </tr>\n",
       "    <tr>\n",
       "      <th>std</th>\n",
       "      <td>2919.657654</td>\n",
       "      <td>0.841430</td>\n",
       "      <td>15.785273</td>\n",
       "      <td>29.066764</td>\n",
       "    </tr>\n",
       "    <tr>\n",
       "      <th>min</th>\n",
       "      <td>0.000000</td>\n",
       "      <td>0.000000</td>\n",
       "      <td>423.000000</td>\n",
       "      <td>390.222222</td>\n",
       "    </tr>\n",
       "    <tr>\n",
       "      <th>25%</th>\n",
       "      <td>2405.000000</td>\n",
       "      <td>0.000000</td>\n",
       "      <td>474.500000</td>\n",
       "      <td>415.555556</td>\n",
       "    </tr>\n",
       "    <tr>\n",
       "      <th>50%</th>\n",
       "      <td>4926.000000</td>\n",
       "      <td>0.000000</td>\n",
       "      <td>485.500000</td>\n",
       "      <td>421.000000</td>\n",
       "    </tr>\n",
       "    <tr>\n",
       "      <th>75%</th>\n",
       "      <td>7501.000000</td>\n",
       "      <td>0.000000</td>\n",
       "      <td>495.500000</td>\n",
       "      <td>426.777778</td>\n",
       "    </tr>\n",
       "    <tr>\n",
       "      <th>max</th>\n",
       "      <td>9997.000000</td>\n",
       "      <td>3.000000</td>\n",
       "      <td>541.000000</td>\n",
       "      <td>545.111111</td>\n",
       "    </tr>\n",
       "  </tbody>\n",
       "</table>\n",
       "</div>"
      ],
      "text/plain": [
       "           user_id  signup_month   pre_spends  post_spends\n",
       "count  5473.000000   5473.000000  5473.000000  5473.000000\n",
       "mean   4947.452768      0.258177   485.212406   428.677041\n",
       "std    2919.657654      0.841430    15.785273    29.066764\n",
       "min       0.000000      0.000000   423.000000   390.222222\n",
       "25%    2405.000000      0.000000   474.500000   415.555556\n",
       "50%    4926.000000      0.000000   485.500000   421.000000\n",
       "75%    7501.000000      0.000000   495.500000   426.777778\n",
       "max    9997.000000      3.000000   541.000000   545.111111"
      ]
     },
     "execution_count": 12,
     "metadata": {},
     "output_type": "execute_result"
    }
   ],
   "source": [
    "df_i_signupmonth.describe()"
   ]
  },
  {
   "cell_type": "code",
   "execution_count": null,
   "id": "135f6e96",
   "metadata": {},
   "outputs": [
    {
     "data": {
      "text/plain": [
       "signup_month\n",
       "0    5002\n",
       "3     471\n",
       "Name: count, dtype: int64"
      ]
     },
     "execution_count": 14,
     "metadata": {},
     "output_type": "execute_result"
    }
   ],
   "source": [
    "df_i_signupmonth['signup_month'].value_counts()"
   ]
  },
  {
   "cell_type": "code",
   "execution_count": null,
   "id": "8b91fdda",
   "metadata": {},
   "outputs": [],
   "source": [
    "model = CausalModel(\n",
    "    data=df_i_signupmonth,\n",
    "    treatment=\"treatment\",  # 'Program Signup in month i'\n",
    "    outcome=\"post_spends\",\n",
    "    common_causes=[ \"pre_spends\", \"signup_month\"],\n",
    ")"
   ]
  },
  {
   "cell_type": "code",
   "execution_count": null,
   "id": "39055ac2",
   "metadata": {},
   "outputs": [
    {
     "data": {
      "image/png": "[encoded data removed]",
      "text/plain": [
       "<Figure size 800x600 with 1 Axes>"
      ]
     },
     "metadata": {},
     "output_type": "display_data"
    }
   ],
   "source": [
    "# model.view_model(layout=\"dot\")\n",
    "model.view_model(layout=\"dot\")"
   ]
  },
  {
   "cell_type": "code",
   "execution_count": null,
   "id": "10519f03",
   "metadata": {},
   "outputs": [
    {
     "name": "stdout",
     "output_type": "stream",
     "text": [
      "Estimand type: EstimandType.NONPARAMETRIC_ATE\n",
      "\n",
      "### Estimand : 1\n",
      "Estimand name: backdoor\n",
      "Estimand expression:\n",
      "     d                                              \n",
      "────────────(E[post_spends|signup_month,pre_spends])\n",
      "d[treatment]                                        \n",
      "Estimand assumption 1, Unconfoundedness: If U→{treatment} and U→post_spends then P(post_spends|treatment,signup_month,pre_spends,U) = P(post_spends|treatment,signup_month,pre_spends)\n",
      "\n",
      "### Estimand : 2\n",
      "Estimand name: iv\n",
      "No such variable(s) found!\n",
      "\n",
      "### Estimand : 3\n",
      "Estimand name: frontdoor\n",
      "No such variable(s) found!\n",
      "\n",
      "### Estimand : 4\n",
      "Estimand name: general_adjustment\n",
      "Estimand expression:\n",
      "     d                                              \n",
      "────────────(E[post_spends|signup_month,pre_spends])\n",
      "d[treatment]                                        \n",
      "Estimand assumption 1, Unconfoundedness: If U→{treatment} and U→post_spends then P(post_spends|treatment,signup_month,pre_spends,U) = P(post_spends|treatment,signup_month,pre_spends)\n",
      "\n"
     ]
    }
   ],
   "source": [
    "identified_estimand = model.identify_effect(proceed_when_unidentifiable=True)\n",
    "print(identified_estimand)"
   ]
  },
  {
   "cell_type": "markdown",
   "id": "0791b91c",
   "metadata": {},
   "source": [
    "## Estimate causal effect based on the identified estimand"
   ]
  },
  {
   "cell_type": "code",
   "execution_count": null,
   "id": "4ee8c5ab",
   "metadata": {},
   "outputs": [],
   "source": [
    "estimate = model.estimate_effect(\n",
    "    identified_estimand,\n",
    "    method_name=\"backdoor.propensity_score_matching\",\n",
    "    target_units=\"att\",\n",
    ")"
   ]
  },
  {
   "cell_type": "code",
   "execution_count": null,
   "id": "e39f7cf9",
   "metadata": {},
   "outputs": [
    {
     "name": "stdout",
     "output_type": "stream",
     "text": [
      "*** Causal Estimate ***\n",
      "\n",
      "## Identified estimand\n",
      "Estimand type: EstimandType.NONPARAMETRIC_ATE\n",
      "\n",
      "### Estimand : 1\n",
      "Estimand name: backdoor\n",
      "Estimand expression:\n",
      "     d                                              \n",
      "────────────(E[post_spends|signup_month,pre_spends])\n",
      "d[treatment]                                        \n",
      "Estimand assumption 1, Unconfoundedness: If U→{treatment} and U→post_spends then P(post_spends|treatment,signup_month,pre_spends,U) = P(post_spends|treatment,signup_month,pre_spends)\n",
      "\n",
      "## Realized estimand\n",
      "b: post_spends~treatment+signup_month+pre_spends\n",
      "Target units: att\n",
      "\n",
      "## Estimate\n",
      "Mean value: 87.82472281198395\n",
      "\n"
     ]
    }
   ],
   "source": [
    "print(estimate)"
   ]
  },
  {
   "cell_type": "markdown",
   "id": "b35b6ce5",
   "metadata": {},
   "source": [
    "### What Conclusion can we draw from the estimated effect?\n",
    "This says all confounders affecting both treatment and outcome are included in your model.\n",
    "\n",
    "It assumes there’s no unobserved variable U that affects both treatment and post_spends.\n",
    "\n",
    "You’re assuming pre_spends and signup_month are enough to \"block\" all backdoor paths.\n",
    "\n",
    "| Group               | Average Post-Spends (Roughly) |\n",
    "| ------------------- | ----------------------------- |\n",
    "| Treated (Signed Up) | High (e.g., ₹100)             |\n",
    "| Matched Controls    | Lower (e.g., ₹12.18 less)     |\n",
    "| Causal Effect (ATT) | **₹87.82** difference         |\n",
    "\n",
    "\n",
    "```\n",
    "Mean value: 87.82\n",
    "```\n",
    "\n",
    "<b>\"We estimate that signing up for the program causes users to spend ₹87.82 more on average, compared to what they would have spent if they hadn’t signed up, even after accounting for the month and their earlier spending.\"</b>"
   ]
  },
  {
   "cell_type": "markdown",
   "id": "9f329210",
   "metadata": {},
   "source": [
    "## Refutation\n",
    "💡 “How confident can I be that this causal effect is real and not due to some hidden bias or noise?”"
   ]
  },
  {
   "cell_type": "code",
   "execution_count": null,
   "id": "6fd334c2",
   "metadata": {},
   "outputs": [
    {
     "name": "stdout",
     "output_type": "stream",
     "text": [
      "Refute: Use a Placebo Treatment\n",
      "Estimated effect:87.82472281198395\n",
      "New effect:-0.35714791224345394\n",
      "p value:0.28540513075337004\n",
      "\n"
     ]
    }
   ],
   "source": [
    "refutation = model.refute_estimate(\n",
    "    identified_estimand,\n",
    "    estimate,\n",
    "    method_name=\"placebo_treatment_refuter\",\n",
    "    placebo_type=\"permute\",\n",
    "    num_simulations=20,\n",
    ")\n",
    "print(refutation)"
   ]
  },
  {
   "cell_type": "markdown",
   "id": "9517234b",
   "metadata": {},
   "source": [
    "The Placebo Test is a method to check the robustness of your causal inference by testing if the effect holds under different conditions or assumptions. It helps to validate whether the observed effect is genuine or if it could be due to confounding factors.\n",
    "\n",
    "The Test involves creating a \"placebo\" treatment group that should not have any effect, and then checking if the estimated effect remains significant. If the effect disappears or becomes insignificant in the placebo group, it suggests that the original effect may not be robust.\n",
    "\n",
    "But in our case the placebo test is not significant, which means the effect we observed is likely genuine and not due to confounding factors.\n",
    "\n",
    "In our case:\n",
    "```\n",
    "placebo_test p_value:0.28540513075337004 \n",
    "when > 0.05, it means the effect is not significant.\n",
    "Which means the effect we observed is likely genuine and not due to confounding factors.\n",
    "```\n",
    "\n",
    "```\n",
    "Estimated effect:87.82472281198395\n",
    "New effect:-0.35714791224345394\n",
    "\n",
    "Estimated Effect is not affected by the placebo test.\n",
    "Which States that the effect we observed is likely genuine and not due to confounding factors.\n",
    "Placebo was not able to find any significant effect.\n",
    "```"
   ]
  },
  {
   "cell_type": "markdown",
   "id": "82241d2a",
   "metadata": {},
   "source": [
    "### Conclusion\n",
    "In this example, we used DoWhy to estimate the causal effect of signing up for a program on user spending. We defined a causal model, identified the estimand, estimated the effect using propensity score matching, and validated our findings through a placebo test."
   ]
  },
  {
   "cell_type": "markdown",
   "id": "f90e4c49",
   "metadata": {},
   "source": [
    "## Resources:\n",
    "\n",
    "Kaggle: https://www.kaggle.com/code/adamwurdits/causal-inference-with-dowhy-a-practical-guide<br>\n",
    "Research Paper: https://arxiv.org/abs/2011.04216<br>\n",
    "DoWhy Documentation: https://dowhy.readthedocs.io/en/latest/index.html<br>\n",
    "Youtube: https://www.youtube.com/watch?v=LALfQStONEc&t=1021s<br>\n"
   ]
  },
  {
   "cell_type": "markdown",
   "id": "4c22b28b",
   "metadata": {},
   "source": [
    "# Backend-style Causal Pipeline (PC + DoWhy)\n",
    "\n",
    "This section reproduces the backend causal workflow in a notebook-friendly way:\n",
    "- Pre-clean and prepare data (numeric coercion, drop constants, optional dedupe)\n",
    "- Learn structure with PC (causal-learn), with safe fallbacks\n",
    "- Convert to a directed graph for modeling; also produce DOT for visualization\n",
    "- Run DoWhy: identify, estimate (with estimator fallback), refute (guarded)\n",
    "- Return a compact result dict similar to the API\n"
   ]
  },
  {
   "cell_type": "code",
   "execution_count": null,
   "id": "1f13c691",
   "metadata": {},
   "outputs": [],
   "source": [
    "# Setup: install/import libraries and helpers\n",
    "# Note: skip installs if already present\n",
    "try:\n",
    "    import numpy as np\n",
    "    import pandas as pd\n",
    "    import networkx as nx\n",
    "    from causallearn.search.ConstraintBased.PC import pc\n",
    "    from causallearn.utils.cit import fisherz\n",
    "    from causallearn.graph.GraphNode import GraphNode\n",
    "    from causallearn.utils.GraphUtils import GraphUtils\n",
    "    import dowhy\n",
    "    from dowhy import CausalModel\n",
    "except Exception as e:\n",
    "    import sys, subprocess\n",
    "    subprocess.check_call([sys.executable, '-m', 'pip', 'install', 'causal-learn', 'dowhy', 'networkx'])\n",
    "    import numpy as np\n",
    "    import pandas as pd\n",
    "    import networkx as nx\n",
    "    from causallearn.search.ConstraintBased.PC import pc\n",
    "    from causallearn.utils.cit import fisherz\n",
    "    from causallearn.graph.GraphNode import GraphNode\n",
    "    from causallearn.utils.GraphUtils import GraphUtils\n",
    "    from dowhy import CausalModel\n",
    "\n",
    "from typing import Tuple, List, Dict, Any\n",
    "\n",
    "\n",
    "def coerce_numeric(df: pd.DataFrame) -> pd.DataFrame:\n",
    "    # convert columns to numeric where possible; keep original for others\n",
    "    X = df.copy()\n",
    "    for c in X.columns:\n",
    "        X[c] = pd.to_numeric(X[c], errors='ignore')\n",
    "    return X\n",
    "\n",
    "\n",
    "def drop_constant_cols(df: pd.DataFrame) -> pd.DataFrame:\n",
    "    nunique = df.nunique(dropna=False)\n",
    "    keep = nunique[nunique > 1].index.tolist()\n",
    "    return df[keep].copy()\n",
    "\n",
    "\n",
    "def select_subset_for_pc(columns: List[str], max_vars: int = 20) -> List[str]:\n",
    "    if len(columns) <= max_vars:\n",
    "        return columns\n",
    "    # take treatment/outcome later; for now simple first-N fallback\n",
    "    return columns[:max_vars]\n",
    "\n",
    "\n",
    "def graph_to_edge_sets(cg) -> Tuple[List[Tuple[str,str]], List[Tuple[str,str]]]:\n",
    "    \"\"\"\n",
    "    Returns (directed_edges, skeleton_edges)\n",
    "    - directed_edges: only oriented edges (u -> v) based on Endpoint marks\n",
    "    - skeleton_edges: undirected adjacency (u, v) for every learned connection, regardless of orientation\n",
    "    \"\"\"\n",
    "    directed: List[Tuple[str, str]] = []\n",
    "    skeleton_pairs: set[Tuple[str, str]] = set()\n",
    "\n",
    "    try:\n",
    "        edges_iter = list(cg.G.get_edges())  # GeneralGraph API\n",
    "    except Exception:\n",
    "        edges_iter = []\n",
    "\n",
    "    # Import Endpoint inside to avoid import errors if API differs\n",
    "    try:\n",
    "        from causallearn.graph.Endpoint import Endpoint\n",
    "    except Exception:\n",
    "        Endpoint = None\n",
    "\n",
    "    for e in edges_iter:\n",
    "        n1 = str(e.get_node1())\n",
    "        n2 = str(e.get_node2())\n",
    "        # Track skeleton as an undirected set (normalize ordering)\n",
    "        a, b = (n1, n2) if n1 <= n2 else (n2, n1)\n",
    "        skeleton_pairs.add((a, b))\n",
    "\n",
    "        # Orientation if available\n",
    "        if Endpoint is not None:\n",
    "            try:\n",
    "                m1 = cg.G.get_endpoint(e.get_node1(), e.get_node2())\n",
    "                m2 = cg.G.get_endpoint(e.get_node2(), e.get_node1())\n",
    "                if m1 == Endpoint.TAIL and m2 == Endpoint.ARROW:\n",
    "                    directed.append((n1, n2))\n",
    "                elif m2 == Endpoint.TAIL and m1 == Endpoint.ARROW:\n",
    "                    directed.append((n2, n1))\n",
    "            except Exception:\n",
    "                pass\n",
    "\n",
    "    # Build skeleton edge list (single entry per undirected pair)\n",
    "    skeleton = [(u, v) for (u, v) in sorted(skeleton_pairs)]\n",
    "    return directed, skeleton\n",
    "\n",
    "\n",
    "def pc_learn_structure(df: pd.DataFrame, alpha: float = 0.05) -> Dict[str, Any]:\n",
    "    cols = df.columns.tolist()\n",
    "    subset_cols = select_subset_for_pc(cols)\n",
    "    X = df[subset_cols].to_numpy(dtype=float, copy=True)\n",
    "    # run PC\n",
    "    cg = pc(X, alpha=alpha, indep_test_func=fisherz, uc_rule=0, uc_priority=2, stable=True)\n",
    "    # map back node names\n",
    "    node_names = subset_cols\n",
    "    # produce DOT\n",
    "    dot = GraphUtils.to_pydot(cg.G).to_string()\n",
    "    # edges: keep both oriented edges and skeleton for visualization\n",
    "    dir_edges, skel_edges = graph_to_edge_sets(cg)\n",
    "    learned = {\n",
    "        'nodes': node_names,\n",
    "        'edges': [{'source': s, 'target': t} for s, t in skel_edges],\n",
    "        'edges_directed': [{'source': s, 'target': t} for s, t in dir_edges],\n",
    "        'dot': dot,\n",
    "        'algorithm': 'PC',\n",
    "        'alpha': alpha,\n",
    "    }\n",
    "    return learned\n",
    "\n",
    "\n",
    "def build_nx_digraph(learned: Dict[str, Any]) -> nx.DiGraph:\n",
    "    G = nx.DiGraph()\n",
    "    for n in learned['nodes']:\n",
    "        G.add_node(n)\n",
    "    for e in learned.get('edges_directed') or []:\n",
    "        G.add_edge(e['source'], e['target'])\n",
    "    # ensure all nodes present even if isolated\n",
    "    return G\n",
    "\n",
    "\n",
    "def run_dowhy(df: pd.DataFrame, treatment: str, outcome: str, learned: Dict[str, Any]) -> Dict[str, Any]:\n",
    "    Gnx = build_nx_digraph(learned)\n",
    "    model = CausalModel(\n",
    "        data=df,\n",
    "        treatment=treatment,\n",
    "        outcome=outcome,\n",
    "        graph=Gnx\n",
    "    )\n",
    "    identificand = model.identify_effect()\n",
    "    # Try a couple estimators\n",
    "    estimate = None\n",
    "    est_value = None\n",
    "    errors = []\n",
    "    for method_name in [\n",
    "        'backdoor.linear_regression',\n",
    "        'backdoor.propensity_score_matching',\n",
    "    ]:\n",
    "        try:\n",
    "            est = model.estimate_effect(identificand, method_name=method_name)\n",
    "            estimate = est\n",
    "            est_value = est.value\n",
    "            break\n",
    "        except Exception as ex:\n",
    "            errors.append(f\"{method_name}: {ex}\")\n",
    "            continue\n",
    "    refutation_txt = None\n",
    "    try:\n",
    "        if estimate is not None:\n",
    "            ref = model.refute_estimate(identificand, estimate, method_name='random_common_cause')\n",
    "            refutation_txt = str(ref)\n",
    "    except Exception as ex:\n",
    "        refutation_txt = f\"Refutation skipped/failed: {ex}\"\n",
    "    return {\n",
    "        'estimand': str(identificand) if identificand is not None else None,\n",
    "        'estimate_value': float(est_value) if est_value is not None else None,\n",
    "        'estimate': str(estimate) if estimate is not None else None,\n",
    "        'refutation': refutation_txt,\n",
    "        'estimation_errors': errors,\n",
    "    }"
   ]
  },
  {
   "cell_type": "code",
   "execution_count": 20,
   "id": "8ec29de6",
   "metadata": {},
   "outputs": [
    {
     "name": "stdout",
     "output_type": "stream",
     "text": [
      "Reading: d:\\Pro\\CSV AI Workflow\\backend\\tests\\simulated_data.csv\n"
     ]
    },
    {
     "data": {
      "text/plain": [
       "(   user_id  signup_month  treatment  pre_spends  post_spends\n",
       " 0        0             0      False       504.5   422.777778\n",
       " 1        2             0      False       485.0   434.000000\n",
       " 2        4             0      False       488.5   420.111111\n",
       " 3        5             0      False       475.0   408.333333\n",
       " 4        6             0      False       494.0   423.666667,\n",
       " (5473, 5))"
      ]
     },
     "execution_count": 20,
     "metadata": {},
     "output_type": "execute_result"
    }
   ],
   "source": [
    "# Load existing CSV and pre-clean\n",
    "# Adjust the path if your CSV is elsewhere\n",
    "import os\n",
    "import pandas as pd\n",
    "\n",
    "csv_path = os.path.join('..', 'backend', 'tests', 'simulated_data.csv')\n",
    "print('Reading:', os.path.abspath(csv_path))\n",
    "raw = pd.read_csv(csv_path)\n",
    "\n",
    "# Optional: deduplicate\n",
    "df0 = raw.drop_duplicates().reset_index(drop=True)\n",
    "\n",
    "# Coerce numeric and drop constants\n",
    "Xnum = coerce_numeric(df0)\n",
    "Xnum = drop_constant_cols(Xnum)\n",
    "\n",
    "# Preview\n",
    "Xnum.head(), Xnum.shape"
   ]
  },
  {
   "cell_type": "code",
   "execution_count": 21,
   "id": "1e59274e",
   "metadata": {},
   "outputs": [
    {
     "name": "stderr",
     "output_type": "stream",
     "text": [
      "Depth=1, working on node 4: 100%|██████████| 5/5 [00:00<00:00, 1000.02it/s]"
     ]
    },
    {
     "name": "stdout",
     "output_type": "stream",
     "text": [
      "Nodes: ['user_id', 'signup_month', 'treatment', 'pre_spends', 'post_spends']\n",
      "Directed edges: []\n",
      "DOT snippet:\n",
      " digraph {\n",
      "fontsize=18;\n",
      "dpi=200;\n",
      "0 [label=X1];\n",
      "0 [label=X1];\n",
      "1 [label=X2];\n",
      "1 [label=X2];\n",
      "2 [label=X3];\n",
      "2 [label=X3];\n",
      "3 [label=X4];\n",
      "3 [label=X4];\n",
      "4 [label=X5];\n",
      "4 [label=X5];\n",
      "1 -> 2 [dir=both, arrowtail=none, arrowhead=none];\n",
      "}\n",
      " ...\n"
     ]
    },
    {
     "name": "stderr",
     "output_type": "stream",
     "text": [
      "\n"
     ]
    }
   ],
   "source": [
    "# Learn structure with PC\n",
    "learned = pc_learn_structure(Xnum, alpha=0.05)\n",
    "print('Nodes:', learned['nodes'])\n",
    "print('Directed edges:', learned['edges_directed'][:10])\n",
    "print('DOT snippet:\\n', learned['dot'][:300], '...')"
   ]
  },
  {
   "cell_type": "code",
   "execution_count": null,
   "id": "a6e71053",
   "metadata": {},
   "outputs": [],
   "source": [
    "# Optional: all-pairs effect matrix (commented out for performance)\n",
    "import numpy as np\n",
    "\n",
    "def all_pairs_effect_matrix(df: pd.DataFrame,\n",
    "                            learned: dict,\n",
    "                            estimators: list | None = None,\n",
    "                            max_vars: int = 20) -> pd.DataFrame:\n",
    "    if estimators is None:\n",
    "        estimators = ['backdoor.linear_regression','backdoor.propensity_score_matching']\n",
    "    cols = df.columns.tolist()[:max_vars]\n",
    "    M = pd.DataFrame(np.nan, index=cols, columns=cols)\n",
    "    for t in cols:\n",
    "        for y in cols:\n",
    "            if t == y:\n",
    "                continue\n",
    "            try:\n",
    "                res = run_dowhy(df, treatment=t, outcome=y, learned=learned, estimator_methods=estimators)\n",
    "                M.loc[t, y] = res['estimate_value']\n",
    "            except Exception:\n",
    "                M.loc[t, y] = np.nan\n",
    "    return M\n",
    "\n",
    "# To build matrix (can be slow):\n",
    "# effect_matrix = all_pairs_effect_matrix(Xnum, learned)\n",
    "# effect_matrix.head()"
   ]
  },
  {
   "cell_type": "code",
   "execution_count": null,
   "id": "7075d239",
   "metadata": {},
   "outputs": [],
   "source": [
    "# Helper: multi-effect scan (single outcome)\n",
    "import math, pandas as pd\n",
    "\n",
    "def multi_effect_scan(df: pd.DataFrame,\n",
    "                      learned: dict,\n",
    "                      outcome: str,\n",
    "                      exclude: list | None = None,\n",
    "                      estimators: list | None = None,\n",
    "                      min_unique_treatment: int = 2,\n",
    "                      max_pairs: int | None = None) -> pd.DataFrame:\n",
    "    if exclude is None:\n",
    "        exclude = []\n",
    "    if estimators is None:\n",
    "        estimators = [\n",
    "            'backdoor.linear_regression',\n",
    "            'backdoor.propensity_score_matching',\n",
    "        ]\n",
    "    cols = [c for c in df.columns if c != outcome and c not in exclude]\n",
    "    rows = []\n",
    "    for t in cols:\n",
    "        if df[t].nunique(dropna=True) < min_unique_treatment:\n",
    "            continue\n",
    "        res = run_dowhy(df, treatment=t, outcome=outcome, learned=learned, estimator_methods=estimators)\n",
    "        rows.append({\n",
    "            'treatment': t,\n",
    "            'outcome': outcome,\n",
    "            'used_method': res['used_method'],\n",
    "            'estimate_value': res['estimate_value'],\n",
    "            'abs_effect': abs(res['estimate_value']) if res['estimate_value'] is not None else math.nan,\n",
    "            'refutation': res['refutation'],\n",
    "            'errors': \"; \".join(res['estimation_errors']) if res['estimation_errors'] else ''\n",
    "        })\n",
    "        if max_pairs is not None and len(rows) >= max_pairs:\n",
    "            break\n",
    "    if not rows:\n",
    "        return pd.DataFrame(columns=['treatment','outcome','used_method','estimate_value','abs_effect','refutation','errors'])\n",
    "    out_df = pd.DataFrame(rows).sort_values('abs_effect', ascending=False).reset_index(drop=True)\n",
    "    return out_df\n",
    "\n",
    "# Choose an outcome column (fallback to last column if Y absent)\n",
    "OUTCOME_COL = 'Y' if 'Y' in Xnum.columns else Xnum.columns[-1]\n",
    "\n",
    "multi_effect_table = multi_effect_scan(Xnum, learned=learned, outcome=OUTCOME_COL)\n",
    "multi_effect_table.head(15)"
   ]
  },
  {
   "cell_type": "markdown",
   "id": "86adde27",
   "metadata": {},
   "source": [
    "## Multi-Effect Explorer\n",
    "Scan each column as a potential treatment (candidate cause) against a chosen outcome using the learned PC structure.\n",
    "\n",
    "Workflow:\n",
    "1. Choose an outcome column present in the cleaned numeric dataframe.\n",
    "2. For every other column with at least a minimum number of unique values, build a DoWhy model using the oriented subset of edges.\n",
    "3. Try estimators in priority order (linear regression, then PSM) and record the first successful estimate.\n",
    "4. Rank rows by absolute effect magnitude.\n",
    "\n",
    "Notes:\n",
    "- These effects are not jointly estimated; each is a separate model with its own adjustment set implied by the graph.\n",
    "- A large absolute value does not guarantee real-world causality; still subject to unmeasured confounding and correct graph orientation.\n",
    "- Consider running refuters or bootstrapping later for stability.\n"
   ]
  },
  {
   "cell_type": "code",
   "execution_count": 22,
   "id": "09c28574",
   "metadata": {},
   "outputs": [
    {
     "ename": "NetworkXError",
     "evalue": "The node T is not in the digraph.",
     "output_type": "error",
     "traceback": [
      "\u001b[1;31m---------------------------------------------------------------------------\u001b[0m",
      "\u001b[1;31mKeyError\u001b[0m                                  Traceback (most recent call last)",
      "File \u001b[1;32md:\\Pro\\CSV AI Workflow\\.venv\\lib\\site-packages\\networkx\\classes\\digraph.py:926\u001b[0m, in \u001b[0;36mDiGraph.successors\u001b[1;34m(self, n)\u001b[0m\n\u001b[0;32m    925\u001b[0m \u001b[38;5;28;01mtry\u001b[39;00m:\n\u001b[1;32m--> 926\u001b[0m     \u001b[38;5;28;01mreturn\u001b[39;00m \u001b[38;5;28miter\u001b[39m(\u001b[38;5;28;43mself\u001b[39;49m\u001b[38;5;241;43m.\u001b[39;49m\u001b[43m_succ\u001b[49m\u001b[43m[\u001b[49m\u001b[43mn\u001b[49m\u001b[43m]\u001b[49m)\n\u001b[0;32m    927\u001b[0m \u001b[38;5;28;01mexcept\u001b[39;00m \u001b[38;5;167;01mKeyError\u001b[39;00m \u001b[38;5;28;01mas\u001b[39;00m err:\n",
      "\u001b[1;31mKeyError\u001b[0m: 'T'",
      "\nThe above exception was the direct cause of the following exception:\n",
      "\u001b[1;31mNetworkXError\u001b[0m                             Traceback (most recent call last)",
      "Cell \u001b[1;32mIn[22], line 3\u001b[0m\n\u001b[0;32m      1\u001b[0m \u001b[38;5;66;03m# Run DoWhy using the learned graph\u001b[39;00m\n\u001b[0;32m      2\u001b[0m T_col, Y_col \u001b[38;5;241m=\u001b[39m \u001b[38;5;124m'\u001b[39m\u001b[38;5;124mT\u001b[39m\u001b[38;5;124m'\u001b[39m, \u001b[38;5;124m'\u001b[39m\u001b[38;5;124mY\u001b[39m\u001b[38;5;124m'\u001b[39m\n\u001b[1;32m----> 3\u001b[0m results \u001b[38;5;241m=\u001b[39m \u001b[43mrun_dowhy\u001b[49m\u001b[43m(\u001b[49m\u001b[43mXnum\u001b[49m\u001b[43m,\u001b[49m\u001b[43m \u001b[49m\u001b[43mtreatment\u001b[49m\u001b[38;5;241;43m=\u001b[39;49m\u001b[43mT_col\u001b[49m\u001b[43m,\u001b[49m\u001b[43m \u001b[49m\u001b[43moutcome\u001b[49m\u001b[38;5;241;43m=\u001b[39;49m\u001b[43mY_col\u001b[49m\u001b[43m,\u001b[49m\u001b[43m \u001b[49m\u001b[43mlearned\u001b[49m\u001b[38;5;241;43m=\u001b[39;49m\u001b[43mlearned\u001b[49m\u001b[43m)\u001b[49m\n\u001b[0;32m      4\u001b[0m \u001b[38;5;28mprint\u001b[39m(\u001b[38;5;124m'\u001b[39m\u001b[38;5;124mEstimand:\u001b[39m\u001b[38;5;130;01m\\n\u001b[39;00m\u001b[38;5;124m'\u001b[39m, results[\u001b[38;5;124m'\u001b[39m\u001b[38;5;124mestimand\u001b[39m\u001b[38;5;124m'\u001b[39m])\n\u001b[0;32m      5\u001b[0m \u001b[38;5;28mprint\u001b[39m(\u001b[38;5;124m'\u001b[39m\u001b[38;5;130;01m\\n\u001b[39;00m\u001b[38;5;124mEstimate value:\u001b[39m\u001b[38;5;124m'\u001b[39m, results[\u001b[38;5;124m'\u001b[39m\u001b[38;5;124mestimate_value\u001b[39m\u001b[38;5;124m'\u001b[39m])\n",
      "Cell \u001b[1;32mIn[14], line 123\u001b[0m, in \u001b[0;36mrun_dowhy\u001b[1;34m(df, treatment, outcome, learned)\u001b[0m\n\u001b[0;32m    116\u001b[0m Gnx \u001b[38;5;241m=\u001b[39m build_nx_digraph(learned)\n\u001b[0;32m    117\u001b[0m model \u001b[38;5;241m=\u001b[39m CausalModel(\n\u001b[0;32m    118\u001b[0m     data\u001b[38;5;241m=\u001b[39mdf,\n\u001b[0;32m    119\u001b[0m     treatment\u001b[38;5;241m=\u001b[39mtreatment,\n\u001b[0;32m    120\u001b[0m     outcome\u001b[38;5;241m=\u001b[39moutcome,\n\u001b[0;32m    121\u001b[0m     graph\u001b[38;5;241m=\u001b[39mGnx\n\u001b[0;32m    122\u001b[0m )\n\u001b[1;32m--> 123\u001b[0m identificand \u001b[38;5;241m=\u001b[39m \u001b[43mmodel\u001b[49m\u001b[38;5;241;43m.\u001b[39;49m\u001b[43midentify_effect\u001b[49m\u001b[43m(\u001b[49m\u001b[43m)\u001b[49m\n\u001b[0;32m    124\u001b[0m \u001b[38;5;66;03m# Try a couple estimators\u001b[39;00m\n\u001b[0;32m    125\u001b[0m estimate \u001b[38;5;241m=\u001b[39m \u001b[38;5;28;01mNone\u001b[39;00m\n",
      "File \u001b[1;32md:\\Pro\\CSV AI Workflow\\.venv\\lib\\site-packages\\dowhy\\causal_model.py:238\u001b[0m, in \u001b[0;36mCausalModel.identify_effect\u001b[1;34m(self, estimand_type, method_name, proceed_when_unidentifiable, optimize_backdoor)\u001b[0m\n\u001b[0;32m    231\u001b[0m \u001b[38;5;28;01melse\u001b[39;00m:\n\u001b[0;32m    232\u001b[0m     identifier \u001b[38;5;241m=\u001b[39m AutoIdentifier(\n\u001b[0;32m    233\u001b[0m         estimand_type\u001b[38;5;241m=\u001b[39mestimand_type,\n\u001b[0;32m    234\u001b[0m         backdoor_adjustment\u001b[38;5;241m=\u001b[39mBackdoorAdjustment(method_name),\n\u001b[0;32m    235\u001b[0m         optimize_backdoor\u001b[38;5;241m=\u001b[39moptimize_backdoor,\n\u001b[0;32m    236\u001b[0m     )\n\u001b[1;32m--> 238\u001b[0m identified_estimand \u001b[38;5;241m=\u001b[39m \u001b[43midentifier\u001b[49m\u001b[38;5;241;43m.\u001b[39;49m\u001b[43midentify_effect\u001b[49m\u001b[43m(\u001b[49m\n\u001b[0;32m    239\u001b[0m \u001b[43m    \u001b[49m\u001b[43mgraph\u001b[49m\u001b[38;5;241;43m=\u001b[39;49m\u001b[38;5;28;43mself\u001b[39;49m\u001b[38;5;241;43m.\u001b[39;49m\u001b[43m_graph\u001b[49m\u001b[38;5;241;43m.\u001b[39;49m\u001b[43m_graph\u001b[49m\u001b[43m,\u001b[49m\n\u001b[0;32m    240\u001b[0m \u001b[43m    \u001b[49m\u001b[43maction_nodes\u001b[49m\u001b[38;5;241;43m=\u001b[39;49m\u001b[38;5;28;43mself\u001b[39;49m\u001b[38;5;241;43m.\u001b[39;49m\u001b[43m_treatment\u001b[49m\u001b[43m,\u001b[49m\n\u001b[0;32m    241\u001b[0m \u001b[43m    \u001b[49m\u001b[43moutcome_nodes\u001b[49m\u001b[38;5;241;43m=\u001b[39;49m\u001b[38;5;28;43mself\u001b[39;49m\u001b[38;5;241;43m.\u001b[39;49m\u001b[43m_outcome\u001b[49m\u001b[43m,\u001b[49m\n\u001b[0;32m    242\u001b[0m \u001b[43m    \u001b[49m\u001b[43mobserved_nodes\u001b[49m\u001b[38;5;241;43m=\u001b[39;49m\u001b[38;5;28;43mlist\u001b[39;49m\u001b[43m(\u001b[49m\u001b[38;5;28;43mself\u001b[39;49m\u001b[38;5;241;43m.\u001b[39;49m\u001b[43m_graph\u001b[49m\u001b[38;5;241;43m.\u001b[39;49m\u001b[43mget_all_nodes\u001b[49m\u001b[43m(\u001b[49m\u001b[43minclude_unobserved\u001b[49m\u001b[38;5;241;43m=\u001b[39;49m\u001b[38;5;28;43;01mFalse\u001b[39;49;00m\u001b[43m)\u001b[49m\u001b[43m)\u001b[49m\u001b[43m,\u001b[49m\n\u001b[0;32m    243\u001b[0m \u001b[43m\u001b[49m\u001b[43m)\u001b[49m\n\u001b[0;32m    245\u001b[0m \u001b[38;5;28mself\u001b[39m\u001b[38;5;241m.\u001b[39midentifier \u001b[38;5;241m=\u001b[39m identifier\n\u001b[0;32m    247\u001b[0m \u001b[38;5;28;01mreturn\u001b[39;00m identified_estimand\n",
      "File \u001b[1;32md:\\Pro\\CSV AI Workflow\\.venv\\lib\\site-packages\\dowhy\\causal_identifier\\auto_identifier.py:115\u001b[0m, in \u001b[0;36mAutoIdentifier.identify_effect\u001b[1;34m(self, graph, action_nodes, outcome_nodes, observed_nodes, conditional_node_names)\u001b[0m\n\u001b[0;32m    107\u001b[0m \u001b[38;5;28;01mdef\u001b[39;00m\u001b[38;5;250m \u001b[39m\u001b[38;5;21midentify_effect\u001b[39m(\n\u001b[0;32m    108\u001b[0m     \u001b[38;5;28mself\u001b[39m,\n\u001b[0;32m    109\u001b[0m     graph: nx\u001b[38;5;241m.\u001b[39mDiGraph,\n\u001b[1;32m   (...)\u001b[0m\n\u001b[0;32m    113\u001b[0m     conditional_node_names: List[\u001b[38;5;28mstr\u001b[39m] \u001b[38;5;241m=\u001b[39m \u001b[38;5;28;01mNone\u001b[39;00m,\n\u001b[0;32m    114\u001b[0m ):\n\u001b[1;32m--> 115\u001b[0m     estimand \u001b[38;5;241m=\u001b[39m \u001b[43midentify_effect_auto\u001b[49m\u001b[43m(\u001b[49m\n\u001b[0;32m    116\u001b[0m \u001b[43m        \u001b[49m\u001b[43mgraph\u001b[49m\u001b[43m,\u001b[49m\n\u001b[0;32m    117\u001b[0m \u001b[43m        \u001b[49m\u001b[43maction_nodes\u001b[49m\u001b[43m,\u001b[49m\n\u001b[0;32m    118\u001b[0m \u001b[43m        \u001b[49m\u001b[43moutcome_nodes\u001b[49m\u001b[43m,\u001b[49m\n\u001b[0;32m    119\u001b[0m \u001b[43m        \u001b[49m\u001b[43mobserved_nodes\u001b[49m\u001b[43m,\u001b[49m\n\u001b[0;32m    120\u001b[0m \u001b[43m        \u001b[49m\u001b[38;5;28;43mself\u001b[39;49m\u001b[38;5;241;43m.\u001b[39;49m\u001b[43mestimand_type\u001b[49m\u001b[43m,\u001b[49m\n\u001b[0;32m    121\u001b[0m \u001b[43m        \u001b[49m\u001b[43mconditional_node_names\u001b[49m\u001b[43m,\u001b[49m\n\u001b[0;32m    122\u001b[0m \u001b[43m        \u001b[49m\u001b[38;5;28;43mself\u001b[39;49m\u001b[38;5;241;43m.\u001b[39;49m\u001b[43mbackdoor_adjustment\u001b[49m\u001b[43m,\u001b[49m\n\u001b[0;32m    123\u001b[0m \u001b[43m        \u001b[49m\u001b[38;5;28;43mself\u001b[39;49m\u001b[38;5;241;43m.\u001b[39;49m\u001b[43moptimize_backdoor\u001b[49m\u001b[43m,\u001b[49m\n\u001b[0;32m    124\u001b[0m \u001b[43m        \u001b[49m\u001b[38;5;28;43mself\u001b[39;49m\u001b[38;5;241;43m.\u001b[39;49m\u001b[43mcosts\u001b[49m\u001b[43m,\u001b[49m\n\u001b[0;32m    125\u001b[0m \u001b[43m        \u001b[49m\u001b[38;5;28;43mself\u001b[39;49m\u001b[38;5;241;43m.\u001b[39;49m\u001b[43mgeneralized_adjustment\u001b[49m\u001b[43m,\u001b[49m\n\u001b[0;32m    126\u001b[0m \u001b[43m    \u001b[49m\u001b[43m)\u001b[49m\n\u001b[0;32m    128\u001b[0m     estimand\u001b[38;5;241m.\u001b[39midentifier \u001b[38;5;241m=\u001b[39m \u001b[38;5;28mself\u001b[39m\n\u001b[0;32m    130\u001b[0m     \u001b[38;5;28;01mreturn\u001b[39;00m estimand\n",
      "File \u001b[1;32md:\\Pro\\CSV AI Workflow\\.venv\\lib\\site-packages\\dowhy\\causal_identifier\\auto_identifier.py:188\u001b[0m, in \u001b[0;36midentify_effect_auto\u001b[1;34m(graph, action_nodes, outcome_nodes, observed_nodes, estimand_type, conditional_node_names, backdoor_adjustment, optimize_backdoor, costs, generalized_adjustment)\u001b[0m\n\u001b[0;32m    185\u001b[0m outcome_nodes \u001b[38;5;241m=\u001b[39m parse_state(outcome_nodes)\n\u001b[0;32m    187\u001b[0m \u001b[38;5;66;03m# First, check if there is a directed path from action to outcome\u001b[39;00m\n\u001b[1;32m--> 188\u001b[0m \u001b[38;5;28;01mif\u001b[39;00m \u001b[38;5;129;01mnot\u001b[39;00m \u001b[43mhas_directed_path\u001b[49m\u001b[43m(\u001b[49m\u001b[43mgraph\u001b[49m\u001b[43m,\u001b[49m\u001b[43m \u001b[49m\u001b[43maction_nodes\u001b[49m\u001b[43m,\u001b[49m\u001b[43m \u001b[49m\u001b[43moutcome_nodes\u001b[49m\u001b[43m)\u001b[49m:\n\u001b[0;32m    189\u001b[0m     logger\u001b[38;5;241m.\u001b[39mwarning(\u001b[38;5;124m\"\u001b[39m\u001b[38;5;124mNo directed path from treatment to outcome. Causal Effect is zero.\u001b[39m\u001b[38;5;124m\"\u001b[39m)\n\u001b[0;32m    190\u001b[0m     \u001b[38;5;28;01mreturn\u001b[39;00m IdentifiedEstimand(\n\u001b[0;32m    191\u001b[0m         \u001b[38;5;28;01mNone\u001b[39;00m,\n\u001b[0;32m    192\u001b[0m         treatment_variable\u001b[38;5;241m=\u001b[39maction_nodes,\n\u001b[0;32m    193\u001b[0m         outcome_variable\u001b[38;5;241m=\u001b[39moutcome_nodes,\n\u001b[0;32m    194\u001b[0m         no_directed_path\u001b[38;5;241m=\u001b[39m\u001b[38;5;28;01mTrue\u001b[39;00m,\n\u001b[0;32m    195\u001b[0m     )\n",
      "File \u001b[1;32md:\\Pro\\CSV AI Workflow\\.venv\\lib\\site-packages\\dowhy\\graph.py:343\u001b[0m, in \u001b[0;36mhas_directed_path\u001b[1;34m(graph, action_nodes, outcome_nodes)\u001b[0m\n\u001b[0;32m    341\u001b[0m action_node_candidates \u001b[38;5;241m=\u001b[39m \u001b[38;5;28mset\u001b[39m()\n\u001b[0;32m    342\u001b[0m \u001b[38;5;28;01mfor\u001b[39;00m node \u001b[38;5;129;01min\u001b[39;00m action_nodes:\n\u001b[1;32m--> 343\u001b[0m     outcome_node_candidates\u001b[38;5;241m.\u001b[39mupdate(\u001b[43mnx\u001b[49m\u001b[38;5;241;43m.\u001b[39;49m\u001b[43mdescendants\u001b[49m\u001b[43m(\u001b[49m\u001b[43mgraph\u001b[49m\u001b[43m,\u001b[49m\u001b[43m \u001b[49m\u001b[43mnode\u001b[49m\u001b[43m)\u001b[49m)\n\u001b[0;32m    344\u001b[0m \u001b[38;5;28;01mfor\u001b[39;00m node \u001b[38;5;129;01min\u001b[39;00m outcome_nodes:\n\u001b[0;32m    345\u001b[0m     action_node_candidates\u001b[38;5;241m.\u001b[39mupdate(nx\u001b[38;5;241m.\u001b[39mancestors(graph, node))\n",
      "File \u001b[1;32m<class 'networkx.utils.decorators.argmap'> compilation 16:3\u001b[0m, in \u001b[0;36margmap_descendants_13\u001b[1;34m(G, source, backend, **backend_kwargs)\u001b[0m\n\u001b[0;32m      1\u001b[0m \u001b[38;5;28;01mimport\u001b[39;00m\u001b[38;5;250m \u001b[39m\u001b[38;5;21;01mbz2\u001b[39;00m\n\u001b[0;32m      2\u001b[0m \u001b[38;5;28;01mimport\u001b[39;00m\u001b[38;5;250m \u001b[39m\u001b[38;5;21;01mcollections\u001b[39;00m\n\u001b[1;32m----> 3\u001b[0m \u001b[38;5;28;01mimport\u001b[39;00m\u001b[38;5;250m \u001b[39m\u001b[38;5;21;01mgzip\u001b[39;00m\n\u001b[0;32m      4\u001b[0m \u001b[38;5;28;01mimport\u001b[39;00m\u001b[38;5;250m \u001b[39m\u001b[38;5;21;01minspect\u001b[39;00m\n\u001b[0;32m      5\u001b[0m \u001b[38;5;28;01mimport\u001b[39;00m\u001b[38;5;250m \u001b[39m\u001b[38;5;21;01mitertools\u001b[39;00m\n",
      "File \u001b[1;32md:\\Pro\\CSV AI Workflow\\.venv\\lib\\site-packages\\networkx\\utils\\backends.py:967\u001b[0m, in \u001b[0;36m_dispatchable.__call__\u001b[1;34m(self, backend, *args, **kwargs)\u001b[0m\n\u001b[0;32m    965\u001b[0m     \u001b[38;5;28;01mif\u001b[39;00m backend \u001b[38;5;129;01mis\u001b[39;00m \u001b[38;5;129;01mnot\u001b[39;00m \u001b[38;5;28;01mNone\u001b[39;00m \u001b[38;5;129;01mand\u001b[39;00m backend \u001b[38;5;241m!=\u001b[39m \u001b[38;5;124m\"\u001b[39m\u001b[38;5;124mnetworkx\u001b[39m\u001b[38;5;124m\"\u001b[39m:\n\u001b[0;32m    966\u001b[0m         \u001b[38;5;28;01mraise\u001b[39;00m \u001b[38;5;167;01mImportError\u001b[39;00m(\u001b[38;5;124mf\u001b[39m\u001b[38;5;124m\"\u001b[39m\u001b[38;5;124m'\u001b[39m\u001b[38;5;132;01m{\u001b[39;00mbackend\u001b[38;5;132;01m}\u001b[39;00m\u001b[38;5;124m'\u001b[39m\u001b[38;5;124m backend is not installed\u001b[39m\u001b[38;5;124m\"\u001b[39m)\n\u001b[1;32m--> 967\u001b[0m     \u001b[38;5;28;01mreturn\u001b[39;00m \u001b[38;5;28mself\u001b[39m\u001b[38;5;241m.\u001b[39morig_func(\u001b[38;5;241m*\u001b[39margs, \u001b[38;5;241m*\u001b[39m\u001b[38;5;241m*\u001b[39mkwargs)\n\u001b[0;32m    969\u001b[0m \u001b[38;5;66;03m# Use `backend_name` in this function instead of `backend`.\u001b[39;00m\n\u001b[0;32m    970\u001b[0m \u001b[38;5;66;03m# This is purely for aesthetics and to make it easier to search for this\u001b[39;00m\n\u001b[0;32m    971\u001b[0m \u001b[38;5;66;03m# variable since \"backend\" is used in many comments and log/error messages.\u001b[39;00m\n\u001b[0;32m    972\u001b[0m backend_name \u001b[38;5;241m=\u001b[39m backend\n",
      "File \u001b[1;32md:\\Pro\\CSV AI Workflow\\.venv\\lib\\site-packages\\networkx\\algorithms\\dag.py:73\u001b[0m, in \u001b[0;36mdescendants\u001b[1;34m(G, source)\u001b[0m\n\u001b[0;32m     39\u001b[0m \u001b[38;5;129m@nx\u001b[39m\u001b[38;5;241m.\u001b[39m_dispatchable\n\u001b[0;32m     40\u001b[0m \u001b[38;5;28;01mdef\u001b[39;00m\u001b[38;5;250m \u001b[39m\u001b[38;5;21mdescendants\u001b[39m(G, source):\n\u001b[0;32m     41\u001b[0m \u001b[38;5;250m    \u001b[39m\u001b[38;5;124;03m\"\"\"Returns all nodes reachable from `source` in `G`.\u001b[39;00m\n\u001b[0;32m     42\u001b[0m \n\u001b[0;32m     43\u001b[0m \u001b[38;5;124;03m    Parameters\u001b[39;00m\n\u001b[1;32m   (...)\u001b[0m\n\u001b[0;32m     71\u001b[0m \u001b[38;5;124;03m    ancestors\u001b[39;00m\n\u001b[0;32m     72\u001b[0m \u001b[38;5;124;03m    \"\"\"\u001b[39;00m\n\u001b[1;32m---> 73\u001b[0m     \u001b[38;5;28;01mreturn\u001b[39;00m {child \u001b[38;5;28;01mfor\u001b[39;00m parent, child \u001b[38;5;129;01min\u001b[39;00m nx\u001b[38;5;241m.\u001b[39mbfs_edges(G, source)}\n",
      "File \u001b[1;32md:\\Pro\\CSV AI Workflow\\.venv\\lib\\site-packages\\networkx\\algorithms\\dag.py:73\u001b[0m, in \u001b[0;36m<setcomp>\u001b[1;34m(.0)\u001b[0m\n\u001b[0;32m     39\u001b[0m \u001b[38;5;129m@nx\u001b[39m\u001b[38;5;241m.\u001b[39m_dispatchable\n\u001b[0;32m     40\u001b[0m \u001b[38;5;28;01mdef\u001b[39;00m\u001b[38;5;250m \u001b[39m\u001b[38;5;21mdescendants\u001b[39m(G, source):\n\u001b[0;32m     41\u001b[0m \u001b[38;5;250m    \u001b[39m\u001b[38;5;124;03m\"\"\"Returns all nodes reachable from `source` in `G`.\u001b[39;00m\n\u001b[0;32m     42\u001b[0m \n\u001b[0;32m     43\u001b[0m \u001b[38;5;124;03m    Parameters\u001b[39;00m\n\u001b[1;32m   (...)\u001b[0m\n\u001b[0;32m     71\u001b[0m \u001b[38;5;124;03m    ancestors\u001b[39;00m\n\u001b[0;32m     72\u001b[0m \u001b[38;5;124;03m    \"\"\"\u001b[39;00m\n\u001b[1;32m---> 73\u001b[0m     \u001b[38;5;28;01mreturn\u001b[39;00m {child \u001b[38;5;28;01mfor\u001b[39;00m parent, child \u001b[38;5;129;01min\u001b[39;00m nx\u001b[38;5;241m.\u001b[39mbfs_edges(G, source)}\n",
      "File \u001b[1;32md:\\Pro\\CSV AI Workflow\\.venv\\lib\\site-packages\\networkx\\algorithms\\traversal\\breadth_first_search.py:194\u001b[0m, in \u001b[0;36mbfs_edges\u001b[1;34m(G, source, reverse, depth_limit, sort_neighbors)\u001b[0m\n\u001b[0;32m    190\u001b[0m     \u001b[38;5;28;01myield from\u001b[39;00m generic_bfs_edges(\n\u001b[0;32m    191\u001b[0m         G, source, \u001b[38;5;28;01mlambda\u001b[39;00m node: \u001b[38;5;28miter\u001b[39m(sort_neighbors(successors(node))), depth_limit\n\u001b[0;32m    192\u001b[0m     )\n\u001b[0;32m    193\u001b[0m \u001b[38;5;28;01melse\u001b[39;00m:\n\u001b[1;32m--> 194\u001b[0m     \u001b[38;5;28;01myield from\u001b[39;00m generic_bfs_edges(G, source, successors, depth_limit)\n",
      "File \u001b[1;32md:\\Pro\\CSV AI Workflow\\.venv\\lib\\site-packages\\networkx\\algorithms\\traversal\\breadth_first_search.py:93\u001b[0m, in \u001b[0;36mgeneric_bfs_edges\u001b[1;34m(G, source, neighbors, depth_limit)\u001b[0m\n\u001b[0;32m     91\u001b[0m n \u001b[38;5;241m=\u001b[39m \u001b[38;5;28mlen\u001b[39m(G)\n\u001b[0;32m     92\u001b[0m depth \u001b[38;5;241m=\u001b[39m \u001b[38;5;241m0\u001b[39m\n\u001b[1;32m---> 93\u001b[0m next_parents_children \u001b[38;5;241m=\u001b[39m [(source, \u001b[43mneighbors\u001b[49m\u001b[43m(\u001b[49m\u001b[43msource\u001b[49m\u001b[43m)\u001b[49m)]\n\u001b[0;32m     94\u001b[0m \u001b[38;5;28;01mwhile\u001b[39;00m next_parents_children \u001b[38;5;129;01mand\u001b[39;00m depth \u001b[38;5;241m<\u001b[39m depth_limit:\n\u001b[0;32m     95\u001b[0m     this_parents_children \u001b[38;5;241m=\u001b[39m next_parents_children\n",
      "File \u001b[1;32md:\\Pro\\CSV AI Workflow\\.venv\\lib\\site-packages\\networkx\\classes\\digraph.py:928\u001b[0m, in \u001b[0;36mDiGraph.successors\u001b[1;34m(self, n)\u001b[0m\n\u001b[0;32m    926\u001b[0m     \u001b[38;5;28;01mreturn\u001b[39;00m \u001b[38;5;28miter\u001b[39m(\u001b[38;5;28mself\u001b[39m\u001b[38;5;241m.\u001b[39m_succ[n])\n\u001b[0;32m    927\u001b[0m \u001b[38;5;28;01mexcept\u001b[39;00m \u001b[38;5;167;01mKeyError\u001b[39;00m \u001b[38;5;28;01mas\u001b[39;00m err:\n\u001b[1;32m--> 928\u001b[0m     \u001b[38;5;28;01mraise\u001b[39;00m NetworkXError(\u001b[38;5;124mf\u001b[39m\u001b[38;5;124m\"\u001b[39m\u001b[38;5;124mThe node \u001b[39m\u001b[38;5;132;01m{\u001b[39;00mn\u001b[38;5;132;01m}\u001b[39;00m\u001b[38;5;124m is not in the digraph.\u001b[39m\u001b[38;5;124m\"\u001b[39m) \u001b[38;5;28;01mfrom\u001b[39;00m\u001b[38;5;250m \u001b[39m\u001b[38;5;21;01merr\u001b[39;00m\n",
      "\u001b[1;31mNetworkXError\u001b[0m: The node T is not in the digraph."
     ]
    }
   ],
   "source": [
    "# Run DoWhy using the learned graph\n",
    "T_col, Y_col = 'T', 'Y'\n",
    "results = run_dowhy(Xnum, treatment=T_col, outcome=Y_col, learned=learned)\n",
    "print('Estimand:\\n', results['estimand'])\n",
    "print('\\nEstimate value:', results['estimate_value'])\n",
    "print('\\nEstimate obj:\\n', results['estimate'][:500] if results['estimate'] else None)\n",
    "print('\\nRefutation:\\n', results['refutation'])\n",
    "print('\\nEstimator errors:', results['estimation_errors'])"
   ]
  },
  {
   "cell_type": "code",
   "execution_count": 23,
   "id": "fa279638",
   "metadata": {},
   "outputs": [
    {
     "data": {
      "text/plain": [
       "{'cleaning_performed': True,\n",
       " 'original_rows': 5473,\n",
       " 'cleaned_rows': 5473,\n",
       " 'total_rows_removed': 0,\n",
       " 'cleaning_summary': 'Dropped constant columns and removed duplicates (if any).',\n",
       " 'causal': {'learned_graph': {'nodes': ['user_id',\n",
       "    'signup_month',\n",
       "    'treatment',\n",
       "    'pre_spends',\n",
       "    'post_spends'],\n",
       "   'edges': [],\n",
       "   'edges_directed': [],\n",
       "   'dot': 'digraph {\\nfontsize=18;\\ndpi=200;\\n0 [label=X1];\\n0 [label=X1];\\n1 [label=X2];\\n1 [label=X2];\\n2 [label=X3];\\n2 [label=X3];\\n3 [label=X4];\\n3 [label=X4];\\n4 [label=X5];\\n4 [label=X5];\\n1 -> 2 [dir=both, arrowtail=none, arrowhead=none];\\n}\\n',\n",
       "   'algorithm': 'PC',\n",
       "   'alpha': 0.05},\n",
       "  'estimand': \"No directed path from ['T'] to ['Y'] in the causal graph.\\nCausal effect is zero.\",\n",
       "  'estimate_value': 0.0,\n",
       "  'estimate': \"*** Causal Estimate ***\\n\\n## Identified estimand\\nNo directed path from ['T'] to ['Y'] in the causal graph.\\nCausal effect is zero.\\n## Realized estimand\\nNone\\n## Estimate\\nMean value: 0\\n\",\n",
       "  'refutation': \"Refutation skipped/failed: 'NoneType' object is not subscriptable\"}}"
      ]
     },
     "execution_count": 23,
     "metadata": {},
     "output_type": "execute_result"
    }
   ],
   "source": [
    "# Compact API-like payload for inspection\n",
    "payload = {\n",
    "    'cleaning_performed': True,  # in this demo we deduped and dropped constants\n",
    "    'original_rows': int(raw.shape[0]),\n",
    "    'cleaned_rows': int(Xnum.shape[0]),\n",
    "    'total_rows_removed': int(raw.shape[0] - Xnum.shape[0]),\n",
    "    'cleaning_summary': 'Dropped constant columns and removed duplicates (if any).',\n",
    "    'causal': {\n",
    "        'learned_graph': learned,\n",
    "        'estimand': results['estimand'],\n",
    "        'estimate_value': results['estimate_value'],\n",
    "        'estimate': results['estimate'],\n",
    "        'refutation': results['refutation'],\n",
    "    }\n",
    "}\n",
    "payload"
   ]
  },
  {
   "cell_type": "markdown",
   "id": "21978fe8",
   "metadata": {},
   "source": [
    "## Generated dataset explained\n",
    "\n",
    "We simulate a small causal system with 300 rows:\n",
    "- Z (latent/confounder): unobserved factor driving both treatment and outcome.\n",
    "- T (treatment): influenced by Z plus random noise.\n",
    "- Y (outcome): influenced by T and Z plus random noise.\n",
    "- X1: a noisy proxy of Z (Z + noise) — helps adjust for confounding.\n",
    "- X2: a noisy proxy of T (T + noise) — often a child of treatment.\n",
    "- X3: independent binary noise (unrelated to others).\n",
    "- CONST: constant column (dropped during pre-cleaning).\n",
    "\n",
    "Intended causal story (true graph):\n",
    "- Z → T, Z → Y, Z → X1\n",
    "- T → Y, T → X2\n",
    "- X3 is independent\n",
    "\n",
    "Since Z is not measured, the learned structure uses X1 as a proxy and may recover edges like X1 → T and X1 → Y (standing in for Z’s effects). The PC algorithm uses Fisher-Z tests on (approximately) Gaussian variables after numeric coercion and constant drop."
   ]
  },
  {
   "cell_type": "code",
   "execution_count": 24,
   "id": "47e0c48a",
   "metadata": {},
   "outputs": [
    {
     "data": {
      "image/png": "[encoded data removed]",
      "text/plain": [
       "<IPython.core.display.Image object>"
      ]
     },
     "metadata": {},
     "output_type": "display_data"
    }
   ],
   "source": [
    "# Visualize the learned graph\n",
    "# Try pydot graphviz rendering; fallback to networkx spring layout\n",
    "try:\n",
    "    import pydot\n",
    "    from IPython.display import Image, display\n",
    "    graphs = pydot.graph_from_dot_data(learned['dot'])\n",
    "    if graphs:\n",
    "        png = graphs[0].create_png()\n",
    "        display(Image(png))\n",
    "    else:\n",
    "        raise RuntimeError('pydot parsing failed')\n",
    "except Exception as ex:\n",
    "    import matplotlib.pyplot as plt\n",
    "    Gnx_viz = build_nx_digraph(learned)\n",
    "    plt.figure(figsize=(6,4))\n",
    "    pos = nx.spring_layout(Gnx_viz, seed=42)\n",
    "    nx.draw(Gnx_viz, pos, with_labels=True, node_color='#93c5fd', arrows=True, node_size=900)\n",
    "    plt.title('Learned DAG (fallback)')\n",
    "    plt.show()\n"
   ]
  }
 ],
 "metadata": {
  "kernelspec": {
   "display_name": ".venv",
   "language": "python",
   "name": "python3"
  },
  "language_info": {
   "codemirror_mode": {
    "name": "ipython",
    "version": 3
   },
   "file_extension": ".py",
   "mimetype": "text/x-python",
   "name": "python",
   "nbconvert_exporter": "python",
   "pygments_lexer": "ipython3",
   "version": "3.10.0"
  }
 },
 "nbformat": 4,
 "nbformat_minor": 5
}
